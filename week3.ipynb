{
 "cells": [
  {
   "cell_type": "code",
   "execution_count": null,
   "id": "e295b56e",
   "metadata": {},
   "outputs": [],
   "source": [
    "import pandas as pd\n",
    "df=pd.read_csv('Y:/Machine Learning/Week_1/Datasets/titanic.csv')"
   ]
  },
  {
   "cell_type": "code",
   "execution_count": null,
   "id": "ccf4730c",
   "metadata": {},
   "outputs": [],
   "source": [
    "from sklearn.impute import SimpleImputer\n",
    "imputer = SimpleImputer(strategy='mean')\n",
    "data_imputed = imputer.fit_transform(df[['Age']])\n",
    "print(data_imputed)"
   ]
  },
  {
   "cell_type": "code",
   "execution_count": null,
   "id": "54d8e2c8",
   "metadata": {},
   "outputs": [],
   "source": [
    "from sklearn.impute import KNNImputer\n",
    "imputer = KNNImputer(n_neighbors=8)\n",
    "data_imputed = imputer.fit_transform(df[['Age']])\n",
    "print(data_imputed)"
   ]
  },
  {
   "cell_type": "code",
   "execution_count": null,
   "id": "ac7d1709",
   "metadata": {},
   "outputs": [],
   "source": [
    "print(df.fillna(method='ffill', inplace=True))"
   ]
  },
  {
   "cell_type": "code",
   "execution_count": null,
   "id": "4fdc0617",
   "metadata": {},
   "outputs": [],
   "source": [
    "print(df.fillna(method='bfill', inplace=True))"
   ]
  },
  {
   "cell_type": "code",
   "execution_count": null,
   "id": "99f69a2e",
   "metadata": {},
   "outputs": [],
   "source": [
    "df.dropna(inplace=True)\n",
    "df.dropna(inplace=True, axis=1)"
   ]
  },
  {
   "cell_type": "code",
   "execution_count": null,
   "id": "ee8b056e",
   "metadata": {},
   "outputs": [],
   "source": [
    "from sklearn.preprocessing import MinMaxScaler\n",
    "scaler = MinMaxScaler()"
   ]
  },
  {
   "cell_type": "code",
   "execution_count": null,
   "id": "375a19d0",
   "metadata": {},
   "outputs": [],
   "source": [
    "scaler = MinMaxScaler()\n",
    "scaled_data = scaler.fit_transform(df[['Age']])"
   ]
  },
  {
   "cell_type": "code",
   "execution_count": null,
   "id": "18d9e2e8",
   "metadata": {},
   "outputs": [],
   "source": [
    "from sklearn.preprocessing import Normalizer\n",
    "normalizer = Normalizer(norm='l2')\n",
    "normalized_data = normalizer.fit_transform(df[['Age']])\n",
    "print(normalized_data)"
   ]
  },
  {
   "cell_type": "code",
   "execution_count": null,
   "id": "2cd3eb37",
   "metadata": {},
   "outputs": [],
   "source": [
    "from sklearn.preprocessing import LabelEncoder\n",
    "le = LabelEncoder()\n",
    "df['PassengerId'] = le.fit_transform(df['PassengerId'])"
   ]
  },
  {
   "cell_type": "code",
   "execution_count": null,
   "id": "95629b67",
   "metadata": {},
   "outputs": [],
   "source": [
    "pd.get_dummies(df['Age'], prefix='Age')"
   ]
  },
  {
   "cell_type": "code",
   "execution_count": null,
   "id": "0a013d5f",
   "metadata": {},
   "outputs": [],
   "source": [
    "from sklearn.preprocessing import OrdinalEncoder\n",
    "encoder = OrdinalEncoder(categories=[['1', '2', '3']])\n",
    "df['Pclass_encoded'] = encoder.fit_transform(df[['Pclass']])"
   ]
  },
  {
   "cell_type": "code",
   "execution_count": null,
   "id": "6604d601",
   "metadata": {},
   "outputs": [],
   "source": [
    "age_data['age_bins_equal'] = pd.cut(age_data['age'], bins=4, labels=['Young', 'Adult', 'Middle-aged', 'Senior'])"
   ]
  },
  {
   "cell_type": "code",
   "execution_count": null,
   "id": "449ddeb1",
   "metadata": {},
   "outputs": [],
   "source": [
    "age_data['age_bins_quantile'] = pd.qcut(age_data['age'], q=4, labels=['Q1', 'Q2', 'Q3', 'Q4'])"
   ]
  },
  {
   "cell_type": "code",
   "execution_count": null,
   "id": "ac2f9f8d",
   "metadata": {},
   "outputs": [],
   "source": [
    "custom_bins = [0, 30, 50, 70, 100]\n",
    "custom_labels = ['Youth', 'Young Adult', 'Middle Age', 'Senior']\n",
    "age_data['age_bins_custom'] = pd.cut(age_data['age'], bins=custom_bins, labels=custom_labels)"
   ]
  }
 ],
 "metadata": {
  "kernelspec": {
   "display_name": "Python 3",
   "language": "python",
   "name": "python3"
  },
  "language_info": {
   "name": "python",
   "version": "3.12.3"
  }
 },
 "nbformat": 4,
 "nbformat_minor": 5
}
